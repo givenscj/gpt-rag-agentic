{
 "cells": [
  {
   "cell_type": "code",
   "execution_count": 3,
   "id": "8a06cf8a",
   "metadata": {},
   "outputs": [],
   "source": [
    "import requests"
   ]
  },
  {
   "cell_type": "code",
   "execution_count": null,
   "id": "e1bad488",
   "metadata": {},
   "outputs": [],
   "source": [
    "post = {\n",
    "    \"question\" : \"who are you\"\n",
    "}\n",
    "\n",
    "response = requests.post(\"http://localhost:7071/api/orc\", json=post)\n",
    "\n",
    "\n",
    "print(\"Response from server:\", response.json())"
   ]
  }
 ],
 "metadata": {
  "kernelspec": {
   "display_name": ".venv",
   "language": "python",
   "name": "python3"
  },
  "language_info": {
   "codemirror_mode": {
    "name": "ipython",
    "version": 3
   },
   "file_extension": ".py",
   "mimetype": "text/x-python",
   "name": "python",
   "nbconvert_exporter": "python",
   "pygments_lexer": "ipython3",
   "version": "3.11.9"
  }
 },
 "nbformat": 4,
 "nbformat_minor": 5
}
