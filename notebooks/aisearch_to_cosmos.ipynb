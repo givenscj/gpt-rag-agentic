{
 "cells": [
  {
   "cell_type": "code",
   "execution_count": null,
   "id": "07acd0ba",
   "metadata": {},
   "outputs": [],
   "source": [
    "#add notebook parent directory to path\n",
    "import os\n",
    "import sys\n",
    "notebook_path = os.path.abspath(os.path.join(os.getcwd(), os.pardir))\n",
    "if notebook_path not in sys.path:\n",
    "    sys.path.append(notebook_path)\n",
    "\n",
    "os.environ[\"APP_CONFIGURATION_URI\"] = \"https://ENDPOINT.azconfig.io\""
   ]
  },
  {
   "cell_type": "code",
   "execution_count": 6,
   "id": "b7f71ada",
   "metadata": {},
   "outputs": [],
   "source": [
    "from factories.vector_stores import AISearchVectorStore, CosmosVectorStore, VectorStoreMigration\n",
    "from configuration import Configuration\n",
    "from dependencies import get_config"
   ]
  },
  {
   "cell_type": "code",
   "execution_count": 7,
   "id": "d21d3870",
   "metadata": {},
   "outputs": [],
   "source": [
    "config = get_config()"
   ]
  },
  {
   "cell_type": "code",
   "execution_count": 8,
   "id": "0e46f396",
   "metadata": {},
   "outputs": [],
   "source": [
    "ai_search_vector_store = AISearchVectorStore(config)\n",
    "cosmos_vector_store = CosmosVectorStore(config)"
   ]
  },
  {
   "cell_type": "code",
   "execution_count": 9,
   "id": "20f7d972",
   "metadata": {},
   "outputs": [],
   "source": [
    "migrator = VectorStoreMigration(\n",
    "    source_store=ai_search_vector_store,\n",
    "    target_store=cosmos_vector_store,\n",
    "    batch_size=1000,\n",
    "    max_workers=4,\n",
    ")"
   ]
  },
  {
   "cell_type": "code",
   "execution_count": 10,
   "id": "fe2bbc1b",
   "metadata": {},
   "outputs": [
    {
     "name": "stdout",
     "output_type": "stream",
     "text": [
      "Migration completed successfully.\n"
     ]
    }
   ],
   "source": [
    "#await migrator.migrate()\n",
    "print(\"Migration completed successfully.\")"
   ]
  },
  {
   "cell_type": "code",
   "execution_count": 11,
   "id": "2f0019f9",
   "metadata": {},
   "outputs": [],
   "source": [
    "#reverse migration\n",
    "migrator = VectorStoreMigration(\n",
    "    source_store=cosmos_vector_store,\n",
    "    target_store=ai_search_vector_store,\n",
    "    batch_size=1000,\n",
    "    max_workers=4,\n",
    ")"
   ]
  },
  {
   "cell_type": "code",
   "execution_count": 12,
   "id": "ac26ae2f",
   "metadata": {},
   "outputs": [
    {
     "name": "stdout",
     "output_type": "stream",
     "text": [
      "Migration completed successfully.\n"
     ]
    }
   ],
   "source": [
    "await migrator.migrate()\n",
    "print(\"Migration completed successfully.\")"
   ]
  }
 ],
 "metadata": {
  "kernelspec": {
   "display_name": ".venv",
   "language": "python",
   "name": "python3"
  },
  "language_info": {
   "codemirror_mode": {
    "name": "ipython",
    "version": 3
   },
   "file_extension": ".py",
   "mimetype": "text/x-python",
   "name": "python",
   "nbconvert_exporter": "python",
   "pygments_lexer": "ipython3",
   "version": "3.11.9"
  }
 },
 "nbformat": 4,
 "nbformat_minor": 5
}
